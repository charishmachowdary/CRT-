{
 "cells": [
  {
   "cell_type": "markdown",
   "metadata": {},
   "source": [
    "## Read input as string and output as follow\n",
    "input :orange\n",
    "\n",
    "output:puboif\n",
    "\n",
    "reason:print read consoment to vowel and print the vowel to the next consoment"
   ]
  },
  {
   "cell_type": "code",
   "execution_count": 8,
   "metadata": {},
   "outputs": [
    {
     "name": "stdout",
     "output_type": "stream",
     "text": [
      "enter a stringorange\n",
      "p u b o i f "
     ]
    }
   ],
   "source": [
    "s= input(\"enter a string\")\n",
    "vowel = ['a','e','i','o','u']\n",
    "for i in s:\n",
    "    if i in vowel:\n",
    "        print(chr(ord(i)+1),end=\" \")\n",
    "    elif(ord(i)>65  and ord(i)<69) or (ord(i)>97 and ord(i)<101):\n",
    "        print('e',end=\" \")\n",
    "    elif(ord(i)>69  and ord(i)<73) or (ord(i)>101 and ord(i)<105):\n",
    "        print('i',end=\" \")\n",
    "    elif(ord(i)>73  and ord(i)<79) or (ord(i)>105 and ord(i)<111):\n",
    "        print('o',end=\" \")\n",
    "    elif(ord(i)>79  and ord(i)<85) or (ord(i)>111 and ord(i)<117):\n",
    "        print('u',end=\" \")\n",
    "    elif(ord(i)>85 and ord(i)<90) or (ord(i)>117 and ord(i)<122):\n",
    "        print('e',end=\" \")  "
   ]
  },
  {
   "cell_type": "code",
   "execution_count": null,
   "metadata": {},
   "outputs": [],
   "source": []
  },
  {
   "cell_type": "markdown",
   "metadata": {},
   "source": [
    "input:[1,2,2,5,1,3,8,4]\n",
    "\n",
    "\n",
    "output:9\n",
    "\n",
    "condition\n",
    "1. in the list assume that there is only one 5 and only one 8\n",
    "2. and 8 comes always after 5\n",
    "3. return the sum "
   ]
  },
  {
   "cell_type": "code",
   "execution_count": 12,
   "metadata": {},
   "outputs": [
    {
     "name": "stdout",
     "output_type": "stream",
     "text": [
      "9\n"
     ]
    }
   ],
   "source": [
    "list1=[1,2,2,5,2,1,3,8,4]\n",
    "s=0\n",
    "for i in range(len(list1)):\n",
    "    if i<list1.index(5) or i>list1.index(8):\n",
    "        s+=list1[i]\n",
    "print(s)        "
   ]
  },
  {
   "cell_type": "code",
   "execution_count": null,
   "metadata": {},
   "outputs": [],
   "source": []
  },
  {
   "cell_type": "markdown",
   "metadata": {},
   "source": [
    "## File handling\n",
    "1. creating file\n",
    "2. adding content\n",
    "3. saving\n",
    "4. reading\n",
    "\n",
    "\n",
    "\n",
    "modes---->read(a),write(w),append(a)\n",
    "\n",
    "\n",
    "\n",
    "\n"
   ]
  },
  {
   "cell_type": "code",
   "execution_count": 1,
   "metadata": {},
   "outputs": [],
   "source": [
    "f=open(\"data.txt\",\"w\")\n",
    "f.write(\"hello world\")\n",
    "f.close()"
   ]
  },
  {
   "cell_type": "code",
   "execution_count": 2,
   "metadata": {},
   "outputs": [
    {
     "name": "stdout",
     "output_type": "stream",
     "text": [
      "hello world\n"
     ]
    }
   ],
   "source": [
    "f1=open(\"data.txt\",\"r\")\n",
    "str1=f1.read()\n",
    "print(str1)"
   ]
  },
  {
   "cell_type": "code",
   "execution_count": 3,
   "metadata": {},
   "outputs": [
    {
     "name": "stdout",
     "output_type": "stream",
     "text": [
      "hello world\n"
     ]
    }
   ],
   "source": [
    "f1=open(\"data.txt\",\"r\")\n",
    "str1=f1.read()\n",
    "print(str1)"
   ]
  },
  {
   "cell_type": "code",
   "execution_count": 4,
   "metadata": {},
   "outputs": [
    {
     "name": "stdout",
     "output_type": "stream",
     "text": [
      "11\n"
     ]
    }
   ],
   "source": [
    "f1=open(\"data.txt\",\"r\")\n",
    "str1=f1.read()\n",
    "print(len(str1))"
   ]
  },
  {
   "cell_type": "code",
   "execution_count": 5,
   "metadata": {},
   "outputs": [
    {
     "name": "stdout",
     "output_type": "stream",
     "text": [
      "2\n"
     ]
    }
   ],
   "source": [
    "f1=open(\"data.txt\",\"r\")\n",
    "str1=f1.read()\n",
    "print(len(str1.split()))\n"
   ]
  },
  {
   "cell_type": "code",
   "execution_count": 6,
   "metadata": {},
   "outputs": [],
   "source": [
    "f=open(\"data.txt\",\"a\")\n",
    "f.write(\"good morning\")\n",
    "f.close()"
   ]
  },
  {
   "cell_type": "code",
   "execution_count": null,
   "metadata": {},
   "outputs": [],
   "source": []
  },
  {
   "cell_type": "code",
   "execution_count": 7,
   "metadata": {},
   "outputs": [
    {
     "name": "stdout",
     "output_type": "stream",
     "text": [
      "hello worldgood mornig\n"
     ]
    }
   ],
   "source": [
    "f1=open(\"data.txt\",\"r\")\n",
    "str1 = f1.read()\n",
    "print(str1)"
   ]
  },
  {
   "cell_type": "code",
   "execution_count": null,
   "metadata": {},
   "outputs": [],
   "source": []
  },
  {
   "cell_type": "markdown",
   "metadata": {},
   "source": [
    "#### calculate pairs(\"aabaabbbbbabaa\",\"a\")----->3\n",
    "#### calculate pairs(\"aabaabbbbabaa\",\"b\")--->2\n",
    "print count of given charater pairs"
   ]
  },
  {
   "cell_type": "code",
   "execution_count": null,
   "metadata": {},
   "outputs": [],
   "source": [
    "s=\"aabaabbbbbabaa\"\n",
    "s.count()"
   ]
  }
 ],
 "metadata": {
  "kernelspec": {
   "display_name": "Python 3",
   "language": "python",
   "name": "python3"
  },
  "language_info": {
   "codemirror_mode": {
    "name": "ipython",
    "version": 3
   },
   "file_extension": ".py",
   "mimetype": "text/x-python",
   "name": "python",
   "nbconvert_exporter": "python",
   "pygments_lexer": "ipython3",
   "version": "3.7.3"
  }
 },
 "nbformat": 4,
 "nbformat_minor": 2
}
